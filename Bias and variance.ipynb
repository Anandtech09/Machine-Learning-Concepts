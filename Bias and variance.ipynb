{
 "cells": [
  {
   "cell_type": "markdown",
   "id": "7ac98152",
   "metadata": {},
   "source": [
    "<h1 align=\"center\"> Bias and Variance </h1>"
   ]
  },
  {
   "cell_type": "markdown",
   "id": "a48c96a4",
   "metadata": {},
   "source": [
    "### variance [ high variance and less variance]"
   ]
  },
  {
   "cell_type": "markdown",
   "id": "e1eba208",
   "metadata": {},
   "source": [
    "<img src=\"https://i.postimg.cc/fTgR6HHW/var.png\">\n",
    "<img src=\"https://i.postimg.cc/zGRfCCqd/le-var.png\">"
   ]
  },
  {
   "cell_type": "markdown",
   "id": "7a7ac2b2",
   "metadata": {},
   "source": [
    "## Bias"
   ]
  },
  {
   "cell_type": "markdown",
   "id": "ab80b35b",
   "metadata": {},
   "source": [
    "<img src=\"https://i.postimg.cc/cC9QnRdx/bias.png\">"
   ]
  },
  {
   "cell_type": "markdown",
   "id": "2e8e9bcf",
   "metadata": {},
   "source": [
    "<h2> variance and bias in single image using truth circle </h2>"
   ]
  },
  {
   "cell_type": "markdown",
   "id": "5e3d01ea",
   "metadata": {},
   "source": [
    "<img src='https://i.postimg.cc/qRLm1Ds4/lb-lv.png'>"
   ]
  },
  {
   "cell_type": "markdown",
   "id": "e66fd2f4",
   "metadata": {},
   "source": [
    "# Ways to get balanced fit"
   ]
  },
  {
   "cell_type": "markdown",
   "id": "2528cdd6",
   "metadata": {},
   "source": [
    "## 1. Cross-validation ( kfold)\n",
    "## 2. L1,L2 Regularization\n",
    "## 3. Diamentionality Reduction ( PCA )\n",
    "## 4. Ensemble Technique( Bagging and Boosting )"
   ]
  },
  {
   "cell_type": "code",
   "execution_count": null,
   "id": "ef0bebdc",
   "metadata": {},
   "outputs": [],
   "source": []
  }
 ],
 "metadata": {
  "kernelspec": {
   "display_name": "Python 3 (ipykernel)",
   "language": "python",
   "name": "python3"
  },
  "language_info": {
   "codemirror_mode": {
    "name": "ipython",
    "version": 3
   },
   "file_extension": ".py",
   "mimetype": "text/x-python",
   "name": "python",
   "nbconvert_exporter": "python",
   "pygments_lexer": "ipython3",
   "version": "3.11.5"
  }
 },
 "nbformat": 4,
 "nbformat_minor": 5
}
